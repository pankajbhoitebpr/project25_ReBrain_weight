{
 "cells": [
  {
   "cell_type": "markdown",
   "metadata": {},
   "source": [
    "This is the project basical based on bike sharing system,we already done linear and EDA analysis in project No.5\n",
    "In this project we will have to try some more regressor and try to improve Accuracy score."
   ]
  },
  {
   "cell_type": "code",
   "execution_count": 1,
   "metadata": {},
   "outputs": [],
   "source": [
    "import numpy as np\n",
    "import pandas as pd\n",
    "import matplotlib .pyplot as plt\n",
    "import seaborn as sns\n",
    "import sklearn\n",
    "from sklearn.linear_model import LinearRegression"
   ]
  },
  {
   "cell_type": "code",
   "execution_count": 2,
   "metadata": {},
   "outputs": [
    {
     "data": {
      "text/html": [
       "<div>\n",
       "<style scoped>\n",
       "    .dataframe tbody tr th:only-of-type {\n",
       "        vertical-align: middle;\n",
       "    }\n",
       "\n",
       "    .dataframe tbody tr th {\n",
       "        vertical-align: top;\n",
       "    }\n",
       "\n",
       "    .dataframe thead th {\n",
       "        text-align: right;\n",
       "    }\n",
       "</style>\n",
       "<table border=\"1\" class=\"dataframe\">\n",
       "  <thead>\n",
       "    <tr style=\"text-align: right;\">\n",
       "      <th></th>\n",
       "      <th>date</th>\n",
       "      <th>temperature</th>\n",
       "      <th>humidity</th>\n",
       "      <th>windspeed</th>\n",
       "      <th>count</th>\n",
       "    </tr>\n",
       "  </thead>\n",
       "  <tbody>\n",
       "    <tr>\n",
       "      <th>0</th>\n",
       "      <td>2011-01-03</td>\n",
       "      <td>2.716070</td>\n",
       "      <td>45.715346</td>\n",
       "      <td>21.414957</td>\n",
       "      <td>120.0</td>\n",
       "    </tr>\n",
       "    <tr>\n",
       "      <th>1</th>\n",
       "      <td>2011-01-04</td>\n",
       "      <td>2.896673</td>\n",
       "      <td>54.267219</td>\n",
       "      <td>15.136882</td>\n",
       "      <td>108.0</td>\n",
       "    </tr>\n",
       "    <tr>\n",
       "      <th>2</th>\n",
       "      <td>2011-01-05</td>\n",
       "      <td>4.235654</td>\n",
       "      <td>45.697702</td>\n",
       "      <td>17.034578</td>\n",
       "      <td>82.0</td>\n",
       "    </tr>\n",
       "    <tr>\n",
       "      <th>3</th>\n",
       "      <td>2011-01-06</td>\n",
       "      <td>3.112643</td>\n",
       "      <td>50.237349</td>\n",
       "      <td>10.091568</td>\n",
       "      <td>88.0</td>\n",
       "    </tr>\n",
       "    <tr>\n",
       "      <th>4</th>\n",
       "      <td>2011-01-07</td>\n",
       "      <td>2.723918</td>\n",
       "      <td>49.144928</td>\n",
       "      <td>15.738204</td>\n",
       "      <td>148.0</td>\n",
       "    </tr>\n",
       "  </tbody>\n",
       "</table>\n",
       "</div>"
      ],
      "text/plain": [
       "         date  temperature   humidity  windspeed  count\n",
       "0  2011-01-03     2.716070  45.715346  21.414957  120.0\n",
       "1  2011-01-04     2.896673  54.267219  15.136882  108.0\n",
       "2  2011-01-05     4.235654  45.697702  17.034578   82.0\n",
       "3  2011-01-06     3.112643  50.237349  10.091568   88.0\n",
       "4  2011-01-07     2.723918  49.144928  15.738204  148.0"
      ]
     },
     "execution_count": 2,
     "metadata": {},
     "output_type": "execute_result"
    }
   ],
   "source": [
    "df=pd.read_csv(\"bikes.csv\")\n",
    "df.head()"
   ]
  },
  {
   "cell_type": "code",
   "execution_count": 3,
   "metadata": {},
   "outputs": [
    {
     "data": {
      "text/html": [
       "<div>\n",
       "<style scoped>\n",
       "    .dataframe tbody tr th:only-of-type {\n",
       "        vertical-align: middle;\n",
       "    }\n",
       "\n",
       "    .dataframe tbody tr th {\n",
       "        vertical-align: top;\n",
       "    }\n",
       "\n",
       "    .dataframe thead th {\n",
       "        text-align: right;\n",
       "    }\n",
       "</style>\n",
       "<table border=\"1\" class=\"dataframe\">\n",
       "  <thead>\n",
       "    <tr style=\"text-align: right;\">\n",
       "      <th></th>\n",
       "      <th>date</th>\n",
       "      <th>temperature</th>\n",
       "      <th>humidity</th>\n",
       "      <th>windspeed</th>\n",
       "      <th>count</th>\n",
       "    </tr>\n",
       "  </thead>\n",
       "  <tbody>\n",
       "    <tr>\n",
       "      <th>186</th>\n",
       "      <td>2011-07-08</td>\n",
       "      <td>28.187490</td>\n",
       "      <td>63.618656</td>\n",
       "      <td>19.761499</td>\n",
       "      <td>692.000000</td>\n",
       "    </tr>\n",
       "    <tr>\n",
       "      <th>187</th>\n",
       "      <td>2011-07-09</td>\n",
       "      <td>29.070524</td>\n",
       "      <td>61.346450</td>\n",
       "      <td>21.121738</td>\n",
       "      <td>702.333333</td>\n",
       "    </tr>\n",
       "    <tr>\n",
       "      <th>188</th>\n",
       "      <td>2011-07-10</td>\n",
       "      <td>29.953558</td>\n",
       "      <td>59.074244</td>\n",
       "      <td>22.481976</td>\n",
       "      <td>712.666667</td>\n",
       "    </tr>\n",
       "    <tr>\n",
       "      <th>189</th>\n",
       "      <td>2011-07-11</td>\n",
       "      <td>30.836592</td>\n",
       "      <td>56.802038</td>\n",
       "      <td>23.842215</td>\n",
       "      <td>723.000000</td>\n",
       "    </tr>\n",
       "    <tr>\n",
       "      <th>190</th>\n",
       "      <td>2011-07-12</td>\n",
       "      <td>32.409522</td>\n",
       "      <td>52.521355</td>\n",
       "      <td>17.987135</td>\n",
       "      <td>662.000000</td>\n",
       "    </tr>\n",
       "  </tbody>\n",
       "</table>\n",
       "</div>"
      ],
      "text/plain": [
       "           date  temperature   humidity  windspeed       count\n",
       "186  2011-07-08    28.187490  63.618656  19.761499  692.000000\n",
       "187  2011-07-09    29.070524  61.346450  21.121738  702.333333\n",
       "188  2011-07-10    29.953558  59.074244  22.481976  712.666667\n",
       "189  2011-07-11    30.836592  56.802038  23.842215  723.000000\n",
       "190  2011-07-12    32.409522  52.521355  17.987135  662.000000"
      ]
     },
     "execution_count": 3,
     "metadata": {},
     "output_type": "execute_result"
    }
   ],
   "source": [
    "df.tail()"
   ]
  },
  {
   "cell_type": "code",
   "execution_count": 4,
   "metadata": {},
   "outputs": [
    {
     "data": {
      "text/html": [
       "<div>\n",
       "<style scoped>\n",
       "    .dataframe tbody tr th:only-of-type {\n",
       "        vertical-align: middle;\n",
       "    }\n",
       "\n",
       "    .dataframe tbody tr th {\n",
       "        vertical-align: top;\n",
       "    }\n",
       "\n",
       "    .dataframe thead th {\n",
       "        text-align: right;\n",
       "    }\n",
       "</style>\n",
       "<table border=\"1\" class=\"dataframe\">\n",
       "  <thead>\n",
       "    <tr style=\"text-align: right;\">\n",
       "      <th></th>\n",
       "      <th>temperature</th>\n",
       "      <th>humidity</th>\n",
       "      <th>windspeed</th>\n",
       "      <th>count</th>\n",
       "    </tr>\n",
       "  </thead>\n",
       "  <tbody>\n",
       "    <tr>\n",
       "      <th>count</th>\n",
       "      <td>191.000000</td>\n",
       "      <td>191.000000</td>\n",
       "      <td>191.000000</td>\n",
       "      <td>191.000000</td>\n",
       "    </tr>\n",
       "    <tr>\n",
       "      <th>mean</th>\n",
       "      <td>15.319033</td>\n",
       "      <td>55.469244</td>\n",
       "      <td>18.605591</td>\n",
       "      <td>461.976440</td>\n",
       "    </tr>\n",
       "    <tr>\n",
       "      <th>std</th>\n",
       "      <td>9.876723</td>\n",
       "      <td>7.998748</td>\n",
       "      <td>5.049424</td>\n",
       "      <td>321.669925</td>\n",
       "    </tr>\n",
       "    <tr>\n",
       "      <th>min</th>\n",
       "      <td>-2.200000</td>\n",
       "      <td>21.300000</td>\n",
       "      <td>6.941802</td>\n",
       "      <td>9.000000</td>\n",
       "    </tr>\n",
       "    <tr>\n",
       "      <th>25%</th>\n",
       "      <td>6.091402</td>\n",
       "      <td>49.593148</td>\n",
       "      <td>14.600733</td>\n",
       "      <td>144.000000</td>\n",
       "    </tr>\n",
       "    <tr>\n",
       "      <th>50%</th>\n",
       "      <td>15.769749</td>\n",
       "      <td>55.080463</td>\n",
       "      <td>18.474898</td>\n",
       "      <td>460.000000</td>\n",
       "    </tr>\n",
       "    <tr>\n",
       "      <th>75%</th>\n",
       "      <td>24.255189</td>\n",
       "      <td>62.046729</td>\n",
       "      <td>21.621460</td>\n",
       "      <td>740.333333</td>\n",
       "    </tr>\n",
       "    <tr>\n",
       "      <th>max</th>\n",
       "      <td>33.113161</td>\n",
       "      <td>72.575560</td>\n",
       "      <td>33.512660</td>\n",
       "      <td>1246.000000</td>\n",
       "    </tr>\n",
       "  </tbody>\n",
       "</table>\n",
       "</div>"
      ],
      "text/plain": [
       "       temperature    humidity   windspeed        count\n",
       "count   191.000000  191.000000  191.000000   191.000000\n",
       "mean     15.319033   55.469244   18.605591   461.976440\n",
       "std       9.876723    7.998748    5.049424   321.669925\n",
       "min      -2.200000   21.300000    6.941802     9.000000\n",
       "25%       6.091402   49.593148   14.600733   144.000000\n",
       "50%      15.769749   55.080463   18.474898   460.000000\n",
       "75%      24.255189   62.046729   21.621460   740.333333\n",
       "max      33.113161   72.575560   33.512660  1246.000000"
      ]
     },
     "execution_count": 4,
     "metadata": {},
     "output_type": "execute_result"
    }
   ],
   "source": [
    "df.describe()"
   ]
  },
  {
   "cell_type": "code",
   "execution_count": 5,
   "metadata": {},
   "outputs": [
    {
     "data": {
      "image/png": "[encoded data removed]",
      "text/plain": [
       "<Figure size 1080x720 with 2 Axes>"
      ]
     },
     "metadata": {
      "needs_background": "light"
     },
     "output_type": "display_data"
    }
   ],
   "source": [
    "corr_hmap=df.corr()\n",
    "plt.figure(figsize=(15,10))\n",
    "sns.heatmap(corr_hmap,annot=True)\n",
    "plt.show()"
   ]
  },
  {
   "cell_type": "code",
   "execution_count": 7,
   "metadata": {},
   "outputs": [
    {
     "data": {
      "text/plain": [
       "Index(['date', 'temperature', 'humidity', 'windspeed', 'count'], dtype='object')"
      ]
     },
     "execution_count": 7,
     "metadata": {},
     "output_type": "execute_result"
    }
   ],
   "source": [
    "df.columns"
   ]
  },
  {
   "cell_type": "code",
   "execution_count": 8,
   "metadata": {},
   "outputs": [
    {
     "data": {
      "text/plain": [
       "array([ 120.        ,  108.        ,   82.        ,   88.        ,\n",
       "        148.        ,  112.33333333,   76.66666667,   41.        ,\n",
       "         43.        ,   25.        ,   38.        ,   54.        ,\n",
       "         42.75      ,   31.5       ,   20.25      ,    9.        ,\n",
       "         78.        ,   83.        ,   75.        ,   78.66666667,\n",
       "         82.33333333,   86.        ,  186.        ,   34.        ,\n",
       "         15.        ,   39.33333333,   40.66666667,   42.        ,\n",
       "         47.        ,   72.        ,   61.        ,   98.66666667,\n",
       "        109.33333333,   64.        ,   53.        ,  149.        ,\n",
       "        168.66666667,  188.33333333,  208.        ,  140.        ,\n",
       "        218.        ,  259.        ,  579.        ,  452.75      ,\n",
       "        326.5       ,  200.25      ,   74.        ,  139.        ,\n",
       "        100.        ,  107.        ,   94.        ,   81.        ,\n",
       "        137.        ,  231.        ,  123.        ,  214.        ,\n",
       "        224.        ,  234.        ,  244.        ,  316.        ,\n",
       "        191.        ,   46.        ,  247.        ,  284.33333333,\n",
       "        321.66666667,  359.        ,  289.        ,  321.        ,\n",
       "        424.        ,  884.        ,  723.        ,  562.        ,\n",
       "        401.        ,  460.        ,  203.        ,  166.        ,\n",
       "        300.        ,  274.        ,  248.        ,  222.        ,\n",
       "        317.        ,  168.        ,  179.        ,  307.        ,\n",
       "        449.33333333,  591.66666667,  734.        ,  167.        ,\n",
       "        413.        ,  571.        ,  172.        ,  399.66666667,\n",
       "        627.33333333,  855.        ,  257.        ,  209.        ,\n",
       "        529.        ,  564.        ,  599.        ,  634.        ,\n",
       "        669.        ,  409.        ,  613.        ,  745.        ,\n",
       "        177.        ,  375.66666667,  574.33333333,  773.        ,\n",
       "        678.        ,  547.        ,  569.        ,  878.        ,\n",
       "        867.66666667,  857.33333333,  847.        ,  603.        ,\n",
       "        255.        ,  614.        ,  894.        ,  817.33333333,\n",
       "        740.66666667,  664.        ,  694.        ,  550.        ,\n",
       "        695.        ,  692.        ,  719.        ,  746.        ,\n",
       "        536.        ,  735.        ,  909.        ,  884.66666667,\n",
       "        860.33333333,  836.        ,  659.        ,  740.        ,\n",
       "        758.        ,  871.        ,  821.5       ,  772.        ,\n",
       "        722.5       ,  673.        ,  513.        ,  736.        ,\n",
       "        898.        ,  823.        ,  748.        ,  763.        ,\n",
       "        676.        ,  563.        ,  815.        ,  831.        ,\n",
       "        863.        ,  727.        ,  769.        ,  545.        ,\n",
       "        808.33333333,  753.66666667,  699.        ,  774.        ,\n",
       "        661.        ,  969.        ,  930.66666667,  892.33333333,\n",
       "        854.        ,  732.        ,  848.        , 1027.        ,\n",
       "       1246.        , 1192.25      , 1138.5       , 1084.75      ,\n",
       "       1031.        ,  784.        ,  754.        ,  702.33333333,\n",
       "        712.66666667,  662.        ])"
      ]
     },
     "execution_count": 8,
     "metadata": {},
     "output_type": "execute_result"
    }
   ],
   "source": [
    "df['count'].unique()"
   ]
  },
  {
   "cell_type": "code",
   "execution_count": 9,
   "metadata": {},
   "outputs": [
    {
     "data": {
      "text/plain": [
       "<seaborn.axisgrid.PairGrid at 0x23bad0774e0>"
      ]
     },
     "execution_count": 9,
     "metadata": {},
     "output_type": "execute_result"
    },
    {
     "data": {
      "image/png": "[encoded data removed]",
      "text/plain": [
       "<Figure size 720x720 with 20 Axes>"
      ]
     },
     "metadata": {
      "needs_background": "light"
     },
     "output_type": "display_data"
    }
   ],
   "source": [
    "sns.pairplot(df)"
   ]
  },
  {
   "cell_type": "code",
   "execution_count": 10,
   "metadata": {},
   "outputs": [
    {
     "data": {
      "text/plain": [
       "<matplotlib.axes._subplots.AxesSubplot at 0x23bad900ba8>"
      ]
     },
     "execution_count": 10,
     "metadata": {},
     "output_type": "execute_result"
    },
    {
     "data": {
      "image/png": "[encoded data removed]",
      "text/plain": [
       "<Figure size 432x288 with 2 Axes>"
      ]
     },
     "metadata": {
      "needs_background": "light"
     },
     "output_type": "display_data"
    }
   ],
   "source": [
    "sns.heatmap(df.isnull())"
   ]
  },
  {
   "cell_type": "code",
   "execution_count": 11,
   "metadata": {},
   "outputs": [
    {
     "data": {
      "text/plain": [
       "<matplotlib.axes._subplots.AxesSubplot at 0x23badb88c50>"
      ]
     },
     "execution_count": 11,
     "metadata": {},
     "output_type": "execute_result"
    },
    {
     "data": {
      "image/png": "[encoded data removed]",
      "text/plain": [
       "<Figure size 432x288 with 1 Axes>"
      ]
     },
     "metadata": {
      "needs_background": "light"
     },
     "output_type": "display_data"
    }
   ],
   "source": [
    "df['temperature'].plot.box()"
   ]
  },
  {
   "cell_type": "code",
   "execution_count": 12,
   "metadata": {},
   "outputs": [
    {
     "data": {
      "text/plain": [
       "<matplotlib.axes._subplots.AxesSubplot at 0x23badc18128>"
      ]
     },
     "execution_count": 12,
     "metadata": {},
     "output_type": "execute_result"
    },
    {
     "data": {
      "image/png": "[encoded data removed]",
      "text/plain": [
       "<Figure size 432x288 with 1 Axes>"
      ]
     },
     "metadata": {
      "needs_background": "light"
     },
     "output_type": "display_data"
    }
   ],
   "source": [
    "df['humidity'].plot.box()"
   ]
  },
  {
   "cell_type": "code",
   "execution_count": 13,
   "metadata": {},
   "outputs": [
    {
     "data": {
      "image/png": "[encoded data removed]",
      "text/plain": [
       "<Figure size 432x288 with 4 Axes>"
      ]
     },
     "metadata": {
      "needs_background": "light"
     },
     "output_type": "display_data"
    }
   ],
   "source": [
    "df.plot(kind='box',subplots=True,layout=(2,2))\n",
    "plt.show()"
   ]
  },
  {
   "cell_type": "code",
   "execution_count": 14,
   "metadata": {},
   "outputs": [
    {
     "data": {
      "text/plain": [
       "<matplotlib.axes._subplots.AxesSubplot at 0x23badd5fbe0>"
      ]
     },
     "execution_count": 14,
     "metadata": {},
     "output_type": "execute_result"
    },
    {
     "data": {
      "image/png": "[encoded data removed]",
      "text/plain": [
       "<Figure size 720x360 with 1 Axes>"
      ]
     },
     "metadata": {
      "needs_background": "light"
     },
     "output_type": "display_data"
    }
   ],
   "source": [
    "fig=plt.figure(figsize=(10,5))\n",
    "sns.barplot(x='temperature',y='count',data=df)"
   ]
  },
  {
   "cell_type": "code",
   "execution_count": 15,
   "metadata": {},
   "outputs": [
    {
     "data": {
      "text/plain": [
       "<matplotlib.axes._subplots.AxesSubplot at 0x23badb88128>"
      ]
     },
     "execution_count": 15,
     "metadata": {},
     "output_type": "execute_result"
    },
    {
     "data": {
      "image/png": "[encoded data removed]",
      "text/plain": [
       "<Figure size 720x360 with 1 Axes>"
      ]
     },
     "metadata": {
      "needs_background": "light"
     },
     "output_type": "display_data"
    }
   ],
   "source": [
    "fig=plt.figure(figsize=(10,5))\n",
    "sns.barplot(x='humidity',y='count',data=df)"
   ]
  },
  {
   "cell_type": "code",
   "execution_count": 16,
   "metadata": {},
   "outputs": [
    {
     "data": {
      "text/plain": [
       "<matplotlib.axes._subplots.AxesSubplot at 0x23badc83fd0>"
      ]
     },
     "execution_count": 16,
     "metadata": {},
     "output_type": "execute_result"
    },
    {
     "data": {
      "image/png": "[encoded data removed]",
      "text/plain": [
       "<Figure size 720x360 with 1 Axes>"
      ]
     },
     "metadata": {
      "needs_background": "light"
     },
     "output_type": "display_data"
    }
   ],
   "source": [
    "fig=plt.figure(figsize=(10,5))\n",
    "sns.barplot(x='windspeed',y='count',data=df)"
   ]
  },
  {
   "cell_type": "code",
   "execution_count": 17,
   "metadata": {},
   "outputs": [
    {
     "data": {
      "text/plain": [
       "<matplotlib.axes._subplots.AxesSubplot at 0x23bafad3080>"
      ]
     },
     "execution_count": 17,
     "metadata": {},
     "output_type": "execute_result"
    },
    {
     "data": {
      "image/png": "[encoded data removed]",
      "text/plain": [
       "<Figure size 432x288 with 1 Axes>"
      ]
     },
     "metadata": {
      "needs_background": "light"
     },
     "output_type": "display_data"
    }
   ],
   "source": [
    "sns.countplot(df['count'])"
   ]
  },
  {
   "cell_type": "code",
   "execution_count": 18,
   "metadata": {},
   "outputs": [
    {
     "data": {
      "text/plain": [
       "<matplotlib.axes._subplots.AxesSubplot at 0x23bb0371208>"
      ]
     },
     "execution_count": 18,
     "metadata": {},
     "output_type": "execute_result"
    },
    {
     "data": {
      "image/png": "[encoded data removed]",
      "text/plain": [
       "<Figure size 432x288 with 1 Axes>"
      ]
     },
     "metadata": {
      "needs_background": "light"
     },
     "output_type": "display_data"
    }
   ],
   "source": [
    "sns.countplot(df['temperature'])"
   ]
  },
  {
   "cell_type": "code",
   "execution_count": 19,
   "metadata": {},
   "outputs": [
    {
     "data": {
      "text/plain": [
       "<matplotlib.axes._subplots.AxesSubplot at 0x23bb0704668>"
      ]
     },
     "execution_count": 19,
     "metadata": {},
     "output_type": "execute_result"
    },
    {
     "data": {
      "image/png": "[encoded data removed]",
      "text/plain": [
       "<Figure size 432x288 with 1 Axes>"
      ]
     },
     "metadata": {
      "needs_background": "light"
     },
     "output_type": "display_data"
    }
   ],
   "source": [
    "sns.countplot(df['humidity'])"
   ]
  },
  {
   "cell_type": "code",
   "execution_count": 20,
   "metadata": {},
   "outputs": [
    {
     "data": {
      "text/html": [
       "<div>\n",
       "<style scoped>\n",
       "    .dataframe tbody tr th:only-of-type {\n",
       "        vertical-align: middle;\n",
       "    }\n",
       "\n",
       "    .dataframe tbody tr th {\n",
       "        vertical-align: top;\n",
       "    }\n",
       "\n",
       "    .dataframe thead th {\n",
       "        text-align: right;\n",
       "    }\n",
       "</style>\n",
       "<table border=\"1\" class=\"dataframe\">\n",
       "  <thead>\n",
       "    <tr style=\"text-align: right;\">\n",
       "      <th></th>\n",
       "      <th>date</th>\n",
       "      <th>temperature</th>\n",
       "      <th>humidity</th>\n",
       "      <th>windspeed</th>\n",
       "      <th>count</th>\n",
       "    </tr>\n",
       "  </thead>\n",
       "  <tbody>\n",
       "    <tr>\n",
       "      <th>2</th>\n",
       "      <td>2011-01-05</td>\n",
       "      <td>4.235654</td>\n",
       "      <td>45.697702</td>\n",
       "      <td>17.034578</td>\n",
       "      <td>82.000000</td>\n",
       "    </tr>\n",
       "    <tr>\n",
       "      <th>3</th>\n",
       "      <td>2011-01-06</td>\n",
       "      <td>3.112643</td>\n",
       "      <td>50.237349</td>\n",
       "      <td>10.091568</td>\n",
       "      <td>88.000000</td>\n",
       "    </tr>\n",
       "    <tr>\n",
       "      <th>4</th>\n",
       "      <td>2011-01-07</td>\n",
       "      <td>2.723918</td>\n",
       "      <td>49.144928</td>\n",
       "      <td>15.738204</td>\n",
       "      <td>148.000000</td>\n",
       "    </tr>\n",
       "    <tr>\n",
       "      <th>5</th>\n",
       "      <td>2011-01-08</td>\n",
       "      <td>1.967445</td>\n",
       "      <td>48.851252</td>\n",
       "      <td>17.035029</td>\n",
       "      <td>112.333333</td>\n",
       "    </tr>\n",
       "    <tr>\n",
       "      <th>6</th>\n",
       "      <td>2011-01-09</td>\n",
       "      <td>1.210973</td>\n",
       "      <td>48.557576</td>\n",
       "      <td>18.331855</td>\n",
       "      <td>76.666667</td>\n",
       "    </tr>\n",
       "    <tr>\n",
       "      <th>7</th>\n",
       "      <td>2011-01-10</td>\n",
       "      <td>0.454501</td>\n",
       "      <td>48.263900</td>\n",
       "      <td>19.628680</td>\n",
       "      <td>41.000000</td>\n",
       "    </tr>\n",
       "    <tr>\n",
       "      <th>8</th>\n",
       "      <td>2011-01-11</td>\n",
       "      <td>1.361393</td>\n",
       "      <td>59.623460</td>\n",
       "      <td>12.414597</td>\n",
       "      <td>43.000000</td>\n",
       "    </tr>\n",
       "    <tr>\n",
       "      <th>9</th>\n",
       "      <td>2011-01-12</td>\n",
       "      <td>1.541997</td>\n",
       "      <td>54.775880</td>\n",
       "      <td>25.432188</td>\n",
       "      <td>25.000000</td>\n",
       "    </tr>\n",
       "    <tr>\n",
       "      <th>10</th>\n",
       "      <td>2011-01-13</td>\n",
       "      <td>1.158189</td>\n",
       "      <td>47.565957</td>\n",
       "      <td>25.173470</td>\n",
       "      <td>38.000000</td>\n",
       "    </tr>\n",
       "    <tr>\n",
       "      <th>11</th>\n",
       "      <td>2011-01-14</td>\n",
       "      <td>0.953048</td>\n",
       "      <td>51.329770</td>\n",
       "      <td>12.729596</td>\n",
       "      <td>54.000000</td>\n",
       "    </tr>\n",
       "    <tr>\n",
       "      <th>12</th>\n",
       "      <td>2011-01-15</td>\n",
       "      <td>1.645921</td>\n",
       "      <td>55.850225</td>\n",
       "      <td>13.090300</td>\n",
       "      <td>42.750000</td>\n",
       "    </tr>\n",
       "    <tr>\n",
       "      <th>13</th>\n",
       "      <td>2011-01-16</td>\n",
       "      <td>2.338794</td>\n",
       "      <td>60.370679</td>\n",
       "      <td>13.451004</td>\n",
       "      <td>31.500000</td>\n",
       "    </tr>\n",
       "    <tr>\n",
       "      <th>14</th>\n",
       "      <td>2011-01-17</td>\n",
       "      <td>3.031667</td>\n",
       "      <td>64.891133</td>\n",
       "      <td>13.811708</td>\n",
       "      <td>20.250000</td>\n",
       "    </tr>\n",
       "    <tr>\n",
       "      <th>15</th>\n",
       "      <td>2011-01-18</td>\n",
       "      <td>3.724539</td>\n",
       "      <td>69.411587</td>\n",
       "      <td>14.172412</td>\n",
       "      <td>9.000000</td>\n",
       "    </tr>\n",
       "    <tr>\n",
       "      <th>16</th>\n",
       "      <td>2011-01-19</td>\n",
       "      <td>7.475045</td>\n",
       "      <td>62.715350</td>\n",
       "      <td>18.562278</td>\n",
       "      <td>78.000000</td>\n",
       "    </tr>\n",
       "    <tr>\n",
       "      <th>17</th>\n",
       "      <td>2011-01-20</td>\n",
       "      <td>5.959733</td>\n",
       "      <td>51.358079</td>\n",
       "      <td>17.676844</td>\n",
       "      <td>83.000000</td>\n",
       "    </tr>\n",
       "    <tr>\n",
       "      <th>18</th>\n",
       "      <td>2011-01-21</td>\n",
       "      <td>1.779077</td>\n",
       "      <td>46.821447</td>\n",
       "      <td>28.899955</td>\n",
       "      <td>75.000000</td>\n",
       "    </tr>\n",
       "    <tr>\n",
       "      <th>19</th>\n",
       "      <td>2011-01-22</td>\n",
       "      <td>0.452718</td>\n",
       "      <td>47.466458</td>\n",
       "      <td>24.265518</td>\n",
       "      <td>78.666667</td>\n",
       "    </tr>\n",
       "    <tr>\n",
       "      <th>20</th>\n",
       "      <td>2011-01-23</td>\n",
       "      <td>-0.873641</td>\n",
       "      <td>48.111470</td>\n",
       "      <td>19.631082</td>\n",
       "      <td>82.333333</td>\n",
       "    </tr>\n",
       "    <tr>\n",
       "      <th>21</th>\n",
       "      <td>2011-01-24</td>\n",
       "      <td>-2.200000</td>\n",
       "      <td>48.756481</td>\n",
       "      <td>14.996645</td>\n",
       "      <td>86.000000</td>\n",
       "    </tr>\n",
       "    <tr>\n",
       "      <th>22</th>\n",
       "      <td>2011-01-25</td>\n",
       "      <td>4.062848</td>\n",
       "      <td>55.748088</td>\n",
       "      <td>12.961280</td>\n",
       "      <td>186.000000</td>\n",
       "    </tr>\n",
       "    <tr>\n",
       "      <th>23</th>\n",
       "      <td>2011-01-26</td>\n",
       "      <td>3.765915</td>\n",
       "      <td>69.458098</td>\n",
       "      <td>24.663452</td>\n",
       "      <td>34.000000</td>\n",
       "    </tr>\n",
       "    <tr>\n",
       "      <th>24</th>\n",
       "      <td>2011-01-27</td>\n",
       "      <td>2.648318</td>\n",
       "      <td>59.686889</td>\n",
       "      <td>11.822905</td>\n",
       "      <td>15.000000</td>\n",
       "    </tr>\n",
       "    <tr>\n",
       "      <th>25</th>\n",
       "      <td>2011-01-28</td>\n",
       "      <td>3.069429</td>\n",
       "      <td>65.579933</td>\n",
       "      <td>12.497912</td>\n",
       "      <td>38.000000</td>\n",
       "    </tr>\n",
       "    <tr>\n",
       "      <th>26</th>\n",
       "      <td>2011-01-29</td>\n",
       "      <td>2.694496</td>\n",
       "      <td>62.056845</td>\n",
       "      <td>14.017077</td>\n",
       "      <td>39.333333</td>\n",
       "    </tr>\n",
       "    <tr>\n",
       "      <th>27</th>\n",
       "      <td>2011-01-30</td>\n",
       "      <td>2.319563</td>\n",
       "      <td>58.533757</td>\n",
       "      <td>15.536242</td>\n",
       "      <td>40.666667</td>\n",
       "    </tr>\n",
       "    <tr>\n",
       "      <th>28</th>\n",
       "      <td>2011-01-31</td>\n",
       "      <td>1.944630</td>\n",
       "      <td>55.010668</td>\n",
       "      <td>17.055406</td>\n",
       "      <td>42.000000</td>\n",
       "    </tr>\n",
       "    <tr>\n",
       "      <th>29</th>\n",
       "      <td>2011-02-01</td>\n",
       "      <td>2.507948</td>\n",
       "      <td>67.619156</td>\n",
       "      <td>7.498521</td>\n",
       "      <td>47.000000</td>\n",
       "    </tr>\n",
       "    <tr>\n",
       "      <th>30</th>\n",
       "      <td>2011-02-02</td>\n",
       "      <td>5.876931</td>\n",
       "      <td>64.595777</td>\n",
       "      <td>22.556185</td>\n",
       "      <td>72.000000</td>\n",
       "    </tr>\n",
       "    <tr>\n",
       "      <th>31</th>\n",
       "      <td>2011-02-03</td>\n",
       "      <td>2.248815</td>\n",
       "      <td>45.746223</td>\n",
       "      <td>23.515162</td>\n",
       "      <td>61.000000</td>\n",
       "    </tr>\n",
       "    <tr>\n",
       "      <th>...</th>\n",
       "      <td>...</td>\n",
       "      <td>...</td>\n",
       "      <td>...</td>\n",
       "      <td>...</td>\n",
       "      <td>...</td>\n",
       "    </tr>\n",
       "    <tr>\n",
       "      <th>159</th>\n",
       "      <td>2011-06-11</td>\n",
       "      <td>28.477221</td>\n",
       "      <td>53.025401</td>\n",
       "      <td>17.647028</td>\n",
       "      <td>831.000000</td>\n",
       "    </tr>\n",
       "    <tr>\n",
       "      <th>160</th>\n",
       "      <td>2011-06-12</td>\n",
       "      <td>26.490382</td>\n",
       "      <td>50.970339</td>\n",
       "      <td>21.565394</td>\n",
       "      <td>847.000000</td>\n",
       "    </tr>\n",
       "    <tr>\n",
       "      <th>161</th>\n",
       "      <td>2011-06-13</td>\n",
       "      <td>24.503544</td>\n",
       "      <td>48.915277</td>\n",
       "      <td>25.483761</td>\n",
       "      <td>863.000000</td>\n",
       "    </tr>\n",
       "    <tr>\n",
       "      <th>162</th>\n",
       "      <td>2011-06-14</td>\n",
       "      <td>22.972039</td>\n",
       "      <td>49.613220</td>\n",
       "      <td>22.911058</td>\n",
       "      <td>727.000000</td>\n",
       "    </tr>\n",
       "    <tr>\n",
       "      <th>163</th>\n",
       "      <td>2011-06-15</td>\n",
       "      <td>24.089636</td>\n",
       "      <td>47.635751</td>\n",
       "      <td>15.680140</td>\n",
       "      <td>769.000000</td>\n",
       "    </tr>\n",
       "    <tr>\n",
       "      <th>164</th>\n",
       "      <td>2011-06-16</td>\n",
       "      <td>24.172387</td>\n",
       "      <td>59.733400</td>\n",
       "      <td>18.430601</td>\n",
       "      <td>545.000000</td>\n",
       "    </tr>\n",
       "    <tr>\n",
       "      <th>165</th>\n",
       "      <td>2011-06-17</td>\n",
       "      <td>25.207232</td>\n",
       "      <td>62.385586</td>\n",
       "      <td>13.905206</td>\n",
       "      <td>863.000000</td>\n",
       "    </tr>\n",
       "    <tr>\n",
       "      <th>166</th>\n",
       "      <td>2011-06-18</td>\n",
       "      <td>24.972669</td>\n",
       "      <td>62.579465</td>\n",
       "      <td>14.201135</td>\n",
       "      <td>808.333333</td>\n",
       "    </tr>\n",
       "    <tr>\n",
       "      <th>167</th>\n",
       "      <td>2011-06-19</td>\n",
       "      <td>24.738107</td>\n",
       "      <td>62.773344</td>\n",
       "      <td>14.497065</td>\n",
       "      <td>753.666667</td>\n",
       "    </tr>\n",
       "    <tr>\n",
       "      <th>168</th>\n",
       "      <td>2011-06-20</td>\n",
       "      <td>24.503544</td>\n",
       "      <td>62.967224</td>\n",
       "      <td>14.792994</td>\n",
       "      <td>699.000000</td>\n",
       "    </tr>\n",
       "    <tr>\n",
       "      <th>169</th>\n",
       "      <td>2011-06-21</td>\n",
       "      <td>26.780113</td>\n",
       "      <td>64.316600</td>\n",
       "      <td>15.902195</td>\n",
       "      <td>774.000000</td>\n",
       "    </tr>\n",
       "    <tr>\n",
       "      <th>170</th>\n",
       "      <td>2011-06-22</td>\n",
       "      <td>29.387839</td>\n",
       "      <td>60.803599</td>\n",
       "      <td>15.990431</td>\n",
       "      <td>661.000000</td>\n",
       "    </tr>\n",
       "    <tr>\n",
       "      <th>171</th>\n",
       "      <td>2011-06-23</td>\n",
       "      <td>29.139484</td>\n",
       "      <td>60.570933</td>\n",
       "      <td>20.736953</td>\n",
       "      <td>746.000000</td>\n",
       "    </tr>\n",
       "    <tr>\n",
       "      <th>172</th>\n",
       "      <td>2011-06-24</td>\n",
       "      <td>28.932555</td>\n",
       "      <td>53.312321</td>\n",
       "      <td>19.540087</td>\n",
       "      <td>969.000000</td>\n",
       "    </tr>\n",
       "    <tr>\n",
       "      <th>173</th>\n",
       "      <td>2011-06-25</td>\n",
       "      <td>28.242675</td>\n",
       "      <td>54.894326</td>\n",
       "      <td>16.819110</td>\n",
       "      <td>930.666667</td>\n",
       "    </tr>\n",
       "    <tr>\n",
       "      <th>174</th>\n",
       "      <td>2011-06-26</td>\n",
       "      <td>27.552795</td>\n",
       "      <td>56.476331</td>\n",
       "      <td>14.098133</td>\n",
       "      <td>892.333333</td>\n",
       "    </tr>\n",
       "    <tr>\n",
       "      <th>175</th>\n",
       "      <td>2011-06-27</td>\n",
       "      <td>26.862915</td>\n",
       "      <td>58.058336</td>\n",
       "      <td>11.377156</td>\n",
       "      <td>854.000000</td>\n",
       "    </tr>\n",
       "    <tr>\n",
       "      <th>176</th>\n",
       "      <td>2011-06-28</td>\n",
       "      <td>29.925974</td>\n",
       "      <td>56.709016</td>\n",
       "      <td>13.994655</td>\n",
       "      <td>732.000000</td>\n",
       "    </tr>\n",
       "    <tr>\n",
       "      <th>177</th>\n",
       "      <td>2011-06-29</td>\n",
       "      <td>29.139484</td>\n",
       "      <td>49.101432</td>\n",
       "      <td>22.378784</td>\n",
       "      <td>848.000000</td>\n",
       "    </tr>\n",
       "    <tr>\n",
       "      <th>178</th>\n",
       "      <td>2011-06-30</td>\n",
       "      <td>27.566603</td>\n",
       "      <td>45.541921</td>\n",
       "      <td>16.921304</td>\n",
       "      <td>1027.000000</td>\n",
       "    </tr>\n",
       "    <tr>\n",
       "      <th>179</th>\n",
       "      <td>2011-07-01</td>\n",
       "      <td>28.849753</td>\n",
       "      <td>43.424807</td>\n",
       "      <td>11.021927</td>\n",
       "      <td>1246.000000</td>\n",
       "    </tr>\n",
       "    <tr>\n",
       "      <th>180</th>\n",
       "      <td>2011-07-02</td>\n",
       "      <td>29.149853</td>\n",
       "      <td>46.135159</td>\n",
       "      <td>11.443672</td>\n",
       "      <td>1192.250000</td>\n",
       "    </tr>\n",
       "    <tr>\n",
       "      <th>181</th>\n",
       "      <td>2011-07-03</td>\n",
       "      <td>29.449952</td>\n",
       "      <td>48.845511</td>\n",
       "      <td>11.865418</td>\n",
       "      <td>1138.500000</td>\n",
       "    </tr>\n",
       "    <tr>\n",
       "      <th>182</th>\n",
       "      <td>2011-07-04</td>\n",
       "      <td>29.750052</td>\n",
       "      <td>51.555862</td>\n",
       "      <td>12.287164</td>\n",
       "      <td>1084.750000</td>\n",
       "    </tr>\n",
       "    <tr>\n",
       "      <th>183</th>\n",
       "      <td>2011-07-05</td>\n",
       "      <td>30.050152</td>\n",
       "      <td>54.266214</td>\n",
       "      <td>12.708910</td>\n",
       "      <td>1031.000000</td>\n",
       "    </tr>\n",
       "    <tr>\n",
       "      <th>184</th>\n",
       "      <td>2011-07-06</td>\n",
       "      <td>28.725576</td>\n",
       "      <td>62.804352</td>\n",
       "      <td>14.394110</td>\n",
       "      <td>784.000000</td>\n",
       "    </tr>\n",
       "    <tr>\n",
       "      <th>185</th>\n",
       "      <td>2011-07-07</td>\n",
       "      <td>30.215705</td>\n",
       "      <td>57.662853</td>\n",
       "      <td>15.058703</td>\n",
       "      <td>754.000000</td>\n",
       "    </tr>\n",
       "    <tr>\n",
       "      <th>186</th>\n",
       "      <td>2011-07-08</td>\n",
       "      <td>28.187490</td>\n",
       "      <td>63.618656</td>\n",
       "      <td>19.761499</td>\n",
       "      <td>692.000000</td>\n",
       "    </tr>\n",
       "    <tr>\n",
       "      <th>187</th>\n",
       "      <td>2011-07-09</td>\n",
       "      <td>29.070524</td>\n",
       "      <td>61.346450</td>\n",
       "      <td>21.121738</td>\n",
       "      <td>702.333333</td>\n",
       "    </tr>\n",
       "    <tr>\n",
       "      <th>188</th>\n",
       "      <td>2011-07-10</td>\n",
       "      <td>29.953558</td>\n",
       "      <td>59.074244</td>\n",
       "      <td>22.481976</td>\n",
       "      <td>712.666667</td>\n",
       "    </tr>\n",
       "  </tbody>\n",
       "</table>\n",
       "<p>187 rows × 5 columns</p>\n",
       "</div>"
      ],
      "text/plain": [
       "           date  temperature   humidity  windspeed        count\n",
       "2    2011-01-05     4.235654  45.697702  17.034578    82.000000\n",
       "3    2011-01-06     3.112643  50.237349  10.091568    88.000000\n",
       "4    2011-01-07     2.723918  49.144928  15.738204   148.000000\n",
       "5    2011-01-08     1.967445  48.851252  17.035029   112.333333\n",
       "6    2011-01-09     1.210973  48.557576  18.331855    76.666667\n",
       "7    2011-01-10     0.454501  48.263900  19.628680    41.000000\n",
       "8    2011-01-11     1.361393  59.623460  12.414597    43.000000\n",
       "9    2011-01-12     1.541997  54.775880  25.432188    25.000000\n",
       "10   2011-01-13     1.158189  47.565957  25.173470    38.000000\n",
       "11   2011-01-14     0.953048  51.329770  12.729596    54.000000\n",
       "12   2011-01-15     1.645921  55.850225  13.090300    42.750000\n",
       "13   2011-01-16     2.338794  60.370679  13.451004    31.500000\n",
       "14   2011-01-17     3.031667  64.891133  13.811708    20.250000\n",
       "15   2011-01-18     3.724539  69.411587  14.172412     9.000000\n",
       "16   2011-01-19     7.475045  62.715350  18.562278    78.000000\n",
       "17   2011-01-20     5.959733  51.358079  17.676844    83.000000\n",
       "18   2011-01-21     1.779077  46.821447  28.899955    75.000000\n",
       "19   2011-01-22     0.452718  47.466458  24.265518    78.666667\n",
       "20   2011-01-23    -0.873641  48.111470  19.631082    82.333333\n",
       "21   2011-01-24    -2.200000  48.756481  14.996645    86.000000\n",
       "22   2011-01-25     4.062848  55.748088  12.961280   186.000000\n",
       "23   2011-01-26     3.765915  69.458098  24.663452    34.000000\n",
       "24   2011-01-27     2.648318  59.686889  11.822905    15.000000\n",
       "25   2011-01-28     3.069429  65.579933  12.497912    38.000000\n",
       "26   2011-01-29     2.694496  62.056845  14.017077    39.333333\n",
       "27   2011-01-30     2.319563  58.533757  15.536242    40.666667\n",
       "28   2011-01-31     1.944630  55.010668  17.055406    42.000000\n",
       "29   2011-02-01     2.507948  67.619156   7.498521    47.000000\n",
       "30   2011-02-02     5.876931  64.595777  22.556185    72.000000\n",
       "31   2011-02-03     2.248815  45.746223  23.515162    61.000000\n",
       "..          ...          ...        ...        ...          ...\n",
       "159  2011-06-11    28.477221  53.025401  17.647028   831.000000\n",
       "160  2011-06-12    26.490382  50.970339  21.565394   847.000000\n",
       "161  2011-06-13    24.503544  48.915277  25.483761   863.000000\n",
       "162  2011-06-14    22.972039  49.613220  22.911058   727.000000\n",
       "163  2011-06-15    24.089636  47.635751  15.680140   769.000000\n",
       "164  2011-06-16    24.172387  59.733400  18.430601   545.000000\n",
       "165  2011-06-17    25.207232  62.385586  13.905206   863.000000\n",
       "166  2011-06-18    24.972669  62.579465  14.201135   808.333333\n",
       "167  2011-06-19    24.738107  62.773344  14.497065   753.666667\n",
       "168  2011-06-20    24.503544  62.967224  14.792994   699.000000\n",
       "169  2011-06-21    26.780113  64.316600  15.902195   774.000000\n",
       "170  2011-06-22    29.387839  60.803599  15.990431   661.000000\n",
       "171  2011-06-23    29.139484  60.570933  20.736953   746.000000\n",
       "172  2011-06-24    28.932555  53.312321  19.540087   969.000000\n",
       "173  2011-06-25    28.242675  54.894326  16.819110   930.666667\n",
       "174  2011-06-26    27.552795  56.476331  14.098133   892.333333\n",
       "175  2011-06-27    26.862915  58.058336  11.377156   854.000000\n",
       "176  2011-06-28    29.925974  56.709016  13.994655   732.000000\n",
       "177  2011-06-29    29.139484  49.101432  22.378784   848.000000\n",
       "178  2011-06-30    27.566603  45.541921  16.921304  1027.000000\n",
       "179  2011-07-01    28.849753  43.424807  11.021927  1246.000000\n",
       "180  2011-07-02    29.149853  46.135159  11.443672  1192.250000\n",
       "181  2011-07-03    29.449952  48.845511  11.865418  1138.500000\n",
       "182  2011-07-04    29.750052  51.555862  12.287164  1084.750000\n",
       "183  2011-07-05    30.050152  54.266214  12.708910  1031.000000\n",
       "184  2011-07-06    28.725576  62.804352  14.394110   784.000000\n",
       "185  2011-07-07    30.215705  57.662853  15.058703   754.000000\n",
       "186  2011-07-08    28.187490  63.618656  19.761499   692.000000\n",
       "187  2011-07-09    29.070524  61.346450  21.121738   702.333333\n",
       "188  2011-07-10    29.953558  59.074244  22.481976   712.666667\n",
       "\n",
       "[187 rows x 5 columns]"
      ]
     },
     "execution_count": 20,
     "metadata": {},
     "output_type": "execute_result"
    }
   ],
   "source": [
    "df[2:-2]"
   ]
  },
  {
   "cell_type": "code",
   "execution_count": 21,
   "metadata": {},
   "outputs": [
    {
     "data": {
      "text/plain": [
       "array([ 2.71606966,  2.8966733 ,  4.23565354,  3.11264266,  2.72391768,\n",
       "        1.96744541,  1.21097315,  0.45450089,  1.36139339,  1.54199703,\n",
       "        1.15818947,  0.95304838,  1.64592111,  2.33879384,  3.03166657,\n",
       "        3.7245393 ,  7.47504496,  5.95973279,  1.77907655,  0.4527177 ,\n",
       "       -0.87364115, -2.2       ,  4.06284825,  3.76591521,  2.64831846,\n",
       "        3.06942892,  2.69449591,  2.31956289,  1.94462988,  2.50794831,\n",
       "        5.87693129,  2.24881488,  3.4581539 ,  4.45758342,  5.45701293,\n",
       "        6.45644245,  3.93146854, -0.34271812,  0.13238467,  2.35481272,\n",
       "        6.09518551,  9.8355583 , 13.57593109,  6.17927846,  8.77081146,\n",
       "       14.61072633, 18.87418407, 14.65904376, 10.44390346,  6.22876316,\n",
       "        2.01362286,  3.97647044,  7.64780058, 11.05999729, 11.77070604,\n",
       "       12.48141478, 13.19212353,  6.20808762,  9.60225377,  2.8138718 ,\n",
       "        5.95973279,  5.96092489,  5.96211699,  5.9633091 ,  7.4912377 ,\n",
       "        7.65679103, 12.28900602,  8.68443365,  8.82839667,  8.97235969,\n",
       "        9.11632271,  8.72759772, 11.10316136, 13.57593109, 19.7848019 ,\n",
       "       17.97073542, 16.15666894, 14.34260246, 14.90050675, 10.19616952,\n",
       "        7.11870545,  6.0839102 ,  6.08690702,  6.08990383,  6.09290065,\n",
       "        7.98794736,  7.86376994,  6.29083945,  7.86376994, 12.38934137,\n",
       "       16.9149128 , 21.44048422, 13.53455517, 12.37553284, 14.69352783,\n",
       "        9.64362969, 13.94544996, 18.24727024, 22.54909052, 17.92214065,\n",
       "       13.45175367, 16.18365683, 16.7424552 , 17.30125357, 17.86005195,\n",
       "       18.41885032, 18.08769398, 22.51670505, 15.76974866,  9.68505527,\n",
       "       14.15544225, 18.62582924, 23.09621622, 24.33799038, 23.75847921,\n",
       "       23.6343018 , 18.2946729 , 18.94316048, 19.59164806, 20.24013565,\n",
       "       23.59292588, 13.53455517, 15.76974866, 16.76316799, 17.64620188,\n",
       "       18.52923576, 19.41226965, 19.41226965, 19.90897931, 19.53644706,\n",
       "       18.41885032, 19.49505459, 20.57125887, 21.64746314, 20.86102273,\n",
       "       20.28151156, 19.32946815, 19.61924856, 21.1921625 , 22.76507644,\n",
       "       24.33799038, 25.74531787, 25.78669379, 28.14606469, 26.8215387 ,\n",
       "       27.98052378, 29.13950886, 30.29849394, 31.45747902, 30.91939344,\n",
       "       28.47722103, 23.75847921, 24.72429804, 25.69011687, 26.6559357 ,\n",
       "       28.10468878, 31.49885493, 33.11316134, 30.46405969, 28.47722103,\n",
       "       26.49038237, 24.50354371, 22.9720388 , 24.08963555, 24.17238738,\n",
       "       25.20723229, 24.97266943, 24.73810657, 24.50354371, 26.78011312,\n",
       "       29.38783886, 29.13948402, 28.93255478, 28.24267472, 27.55279467,\n",
       "       26.86291462, 29.92597411, 29.13948402, 27.5666032 , 28.84975328,\n",
       "       29.14985284, 29.4499524 , 29.75005196, 30.05015152, 28.72557586,\n",
       "       30.21570485, 28.18749028, 29.07052417, 29.95355805, 30.83659194,\n",
       "       32.40952243])"
      ]
     },
     "execution_count": 21,
     "metadata": {},
     "output_type": "execute_result"
    }
   ],
   "source": [
    "x=df.iloc[:,1].values\n",
    "x"
   ]
  },
  {
   "cell_type": "code",
   "execution_count": 22,
   "metadata": {},
   "outputs": [
    {
     "data": {
      "text/plain": [
       "(191,)"
      ]
     },
     "execution_count": 22,
     "metadata": {},
     "output_type": "execute_result"
    }
   ],
   "source": [
    "x.shape"
   ]
  },
  {
   "cell_type": "code",
   "execution_count": 23,
   "metadata": {},
   "outputs": [
    {
     "data": {
      "text/plain": [
       "array([ 120.        ,  108.        ,   82.        ,   88.        ,\n",
       "        148.        ,  112.33333333,   76.66666667,   41.        ,\n",
       "         43.        ,   25.        ,   38.        ,   54.        ,\n",
       "         42.75      ,   31.5       ,   20.25      ,    9.        ,\n",
       "         78.        ,   83.        ,   75.        ,   78.66666667,\n",
       "         82.33333333,   86.        ,  186.        ,   34.        ,\n",
       "         15.        ,   38.        ,   39.33333333,   40.66666667,\n",
       "         42.        ,   47.        ,   72.        ,   61.        ,\n",
       "         88.        ,   98.66666667,  109.33333333,  120.        ,\n",
       "         64.        ,   53.        ,   47.        ,  149.        ,\n",
       "        168.66666667,  188.33333333,  208.        ,  140.        ,\n",
       "        218.        ,  259.        ,  579.        ,  452.75      ,\n",
       "        326.5       ,  200.25      ,   74.        ,  139.        ,\n",
       "        100.        ,  120.        ,  107.        ,   94.        ,\n",
       "         81.        ,  137.        ,  231.        ,  123.        ,\n",
       "        214.        ,  224.        ,  234.        ,  244.        ,\n",
       "        316.        ,  191.        ,   46.        ,  247.        ,\n",
       "        284.33333333,  321.66666667,  359.        ,  289.        ,\n",
       "        321.        ,  424.        ,  884.        ,  723.        ,\n",
       "        562.        ,  401.        ,  460.        ,  203.        ,\n",
       "        166.        ,  300.        ,  274.        ,  248.        ,\n",
       "        222.        ,  317.        ,  168.        ,  179.        ,\n",
       "        307.        ,  449.33333333,  591.66666667,  734.        ,\n",
       "        167.        ,  413.        ,  571.        ,  172.        ,\n",
       "        399.66666667,  627.33333333,  855.        ,  257.        ,\n",
       "        209.        ,  529.        ,  564.        ,  599.        ,\n",
       "        634.        ,  669.        ,  409.        ,  613.        ,\n",
       "        745.        ,  177.        ,  375.66666667,  574.33333333,\n",
       "        773.        ,  678.        ,  547.        ,  569.        ,\n",
       "        878.        ,  867.66666667,  857.33333333,  847.        ,\n",
       "        603.        ,  255.        ,  614.        ,  894.        ,\n",
       "        817.33333333,  740.66666667,  664.        ,  694.        ,\n",
       "        550.        ,  695.        ,  692.        ,  719.        ,\n",
       "        746.        ,  773.        ,  678.        ,  536.        ,\n",
       "        735.        ,  909.        ,  884.66666667,  860.33333333,\n",
       "        836.        ,  659.        ,  740.        ,  758.        ,\n",
       "        871.        ,  821.5       ,  772.        ,  722.5       ,\n",
       "        673.        ,  513.        ,  736.        ,  898.        ,\n",
       "        823.        ,  748.        ,  673.        ,  763.        ,\n",
       "        676.        ,  563.        ,  815.        ,  831.        ,\n",
       "        847.        ,  863.        ,  727.        ,  769.        ,\n",
       "        545.        ,  863.        ,  808.33333333,  753.66666667,\n",
       "        699.        ,  774.        ,  661.        ,  746.        ,\n",
       "        969.        ,  930.66666667,  892.33333333,  854.        ,\n",
       "        732.        ,  848.        , 1027.        , 1246.        ,\n",
       "       1192.25      , 1138.5       , 1084.75      , 1031.        ,\n",
       "        784.        ,  754.        ,  692.        ,  702.33333333,\n",
       "        712.66666667,  723.        ,  662.        ])"
      ]
     },
     "execution_count": 23,
     "metadata": {},
     "output_type": "execute_result"
    }
   ],
   "source": [
    "y=df.iloc[:,-1].values\n",
    "y"
   ]
  },
  {
   "cell_type": "code",
   "execution_count": 24,
   "metadata": {},
   "outputs": [
    {
     "data": {
      "text/plain": [
       "(191,)"
      ]
     },
     "execution_count": 24,
     "metadata": {},
     "output_type": "execute_result"
    }
   ],
   "source": [
    "y.shape"
   ]
  },
  {
   "cell_type": "code",
   "execution_count": 25,
   "metadata": {},
   "outputs": [
    {
     "data": {
      "text/plain": [
       "array([[ 2.71606966],\n",
       "       [ 2.8966733 ],\n",
       "       [ 4.23565354],\n",
       "       [ 3.11264266],\n",
       "       [ 2.72391768],\n",
       "       [ 1.96744541],\n",
       "       [ 1.21097315],\n",
       "       [ 0.45450089],\n",
       "       [ 1.36139339],\n",
       "       [ 1.54199703],\n",
       "       [ 1.15818947],\n",
       "       [ 0.95304838],\n",
       "       [ 1.64592111],\n",
       "       [ 2.33879384],\n",
       "       [ 3.03166657],\n",
       "       [ 3.7245393 ],\n",
       "       [ 7.47504496],\n",
       "       [ 5.95973279],\n",
       "       [ 1.77907655],\n",
       "       [ 0.4527177 ],\n",
       "       [-0.87364115],\n",
       "       [-2.2       ],\n",
       "       [ 4.06284825],\n",
       "       [ 3.76591521],\n",
       "       [ 2.64831846],\n",
       "       [ 3.06942892],\n",
       "       [ 2.69449591],\n",
       "       [ 2.31956289],\n",
       "       [ 1.94462988],\n",
       "       [ 2.50794831],\n",
       "       [ 5.87693129],\n",
       "       [ 2.24881488],\n",
       "       [ 3.4581539 ],\n",
       "       [ 4.45758342],\n",
       "       [ 5.45701293],\n",
       "       [ 6.45644245],\n",
       "       [ 3.93146854],\n",
       "       [-0.34271812],\n",
       "       [ 0.13238467],\n",
       "       [ 2.35481272],\n",
       "       [ 6.09518551],\n",
       "       [ 9.8355583 ],\n",
       "       [13.57593109],\n",
       "       [ 6.17927846],\n",
       "       [ 8.77081146],\n",
       "       [14.61072633],\n",
       "       [18.87418407],\n",
       "       [14.65904376],\n",
       "       [10.44390346],\n",
       "       [ 6.22876316],\n",
       "       [ 2.01362286],\n",
       "       [ 3.97647044],\n",
       "       [ 7.64780058],\n",
       "       [11.05999729],\n",
       "       [11.77070604],\n",
       "       [12.48141478],\n",
       "       [13.19212353],\n",
       "       [ 6.20808762],\n",
       "       [ 9.60225377],\n",
       "       [ 2.8138718 ],\n",
       "       [ 5.95973279],\n",
       "       [ 5.96092489],\n",
       "       [ 5.96211699],\n",
       "       [ 5.9633091 ],\n",
       "       [ 7.4912377 ],\n",
       "       [ 7.65679103],\n",
       "       [12.28900602],\n",
       "       [ 8.68443365],\n",
       "       [ 8.82839667],\n",
       "       [ 8.97235969],\n",
       "       [ 9.11632271],\n",
       "       [ 8.72759772],\n",
       "       [11.10316136],\n",
       "       [13.57593109],\n",
       "       [19.7848019 ],\n",
       "       [17.97073542],\n",
       "       [16.15666894],\n",
       "       [14.34260246],\n",
       "       [14.90050675],\n",
       "       [10.19616952],\n",
       "       [ 7.11870545],\n",
       "       [ 6.0839102 ],\n",
       "       [ 6.08690702],\n",
       "       [ 6.08990383],\n",
       "       [ 6.09290065],\n",
       "       [ 7.98794736],\n",
       "       [ 7.86376994],\n",
       "       [ 6.29083945],\n",
       "       [ 7.86376994],\n",
       "       [12.38934137],\n",
       "       [16.9149128 ],\n",
       "       [21.44048422],\n",
       "       [13.53455517],\n",
       "       [12.37553284],\n",
       "       [14.69352783],\n",
       "       [ 9.64362969],\n",
       "       [13.94544996],\n",
       "       [18.24727024],\n",
       "       [22.54909052],\n",
       "       [17.92214065],\n",
       "       [13.45175367],\n",
       "       [16.18365683],\n",
       "       [16.7424552 ],\n",
       "       [17.30125357],\n",
       "       [17.86005195],\n",
       "       [18.41885032],\n",
       "       [18.08769398],\n",
       "       [22.51670505],\n",
       "       [15.76974866],\n",
       "       [ 9.68505527],\n",
       "       [14.15544225],\n",
       "       [18.62582924],\n",
       "       [23.09621622],\n",
       "       [24.33799038],\n",
       "       [23.75847921],\n",
       "       [23.6343018 ],\n",
       "       [18.2946729 ],\n",
       "       [18.94316048],\n",
       "       [19.59164806],\n",
       "       [20.24013565],\n",
       "       [23.59292588],\n",
       "       [13.53455517],\n",
       "       [15.76974866],\n",
       "       [16.76316799],\n",
       "       [17.64620188],\n",
       "       [18.52923576],\n",
       "       [19.41226965],\n",
       "       [19.41226965],\n",
       "       [19.90897931],\n",
       "       [19.53644706],\n",
       "       [18.41885032],\n",
       "       [19.49505459],\n",
       "       [20.57125887],\n",
       "       [21.64746314],\n",
       "       [20.86102273],\n",
       "       [20.28151156],\n",
       "       [19.32946815],\n",
       "       [19.61924856],\n",
       "       [21.1921625 ],\n",
       "       [22.76507644],\n",
       "       [24.33799038],\n",
       "       [25.74531787],\n",
       "       [25.78669379],\n",
       "       [28.14606469],\n",
       "       [26.8215387 ],\n",
       "       [27.98052378],\n",
       "       [29.13950886],\n",
       "       [30.29849394],\n",
       "       [31.45747902],\n",
       "       [30.91939344],\n",
       "       [28.47722103],\n",
       "       [23.75847921],\n",
       "       [24.72429804],\n",
       "       [25.69011687],\n",
       "       [26.6559357 ],\n",
       "       [28.10468878],\n",
       "       [31.49885493],\n",
       "       [33.11316134],\n",
       "       [30.46405969],\n",
       "       [28.47722103],\n",
       "       [26.49038237],\n",
       "       [24.50354371],\n",
       "       [22.9720388 ],\n",
       "       [24.08963555],\n",
       "       [24.17238738],\n",
       "       [25.20723229],\n",
       "       [24.97266943],\n",
       "       [24.73810657],\n",
       "       [24.50354371],\n",
       "       [26.78011312],\n",
       "       [29.38783886],\n",
       "       [29.13948402],\n",
       "       [28.93255478],\n",
       "       [28.24267472],\n",
       "       [27.55279467],\n",
       "       [26.86291462],\n",
       "       [29.92597411],\n",
       "       [29.13948402],\n",
       "       [27.5666032 ],\n",
       "       [28.84975328],\n",
       "       [29.14985284],\n",
       "       [29.4499524 ],\n",
       "       [29.75005196],\n",
       "       [30.05015152],\n",
       "       [28.72557586],\n",
       "       [30.21570485],\n",
       "       [28.18749028],\n",
       "       [29.07052417],\n",
       "       [29.95355805],\n",
       "       [30.83659194],\n",
       "       [32.40952243]])"
      ]
     },
     "execution_count": 25,
     "metadata": {},
     "output_type": "execute_result"
    }
   ],
   "source": [
    "x=x.reshape(-1,1)\n",
    "x"
   ]
  },
  {
   "cell_type": "code",
   "execution_count": 26,
   "metadata": {},
   "outputs": [
    {
     "data": {
      "text/plain": [
       "(191, 1)"
      ]
     },
     "execution_count": 26,
     "metadata": {},
     "output_type": "execute_result"
    }
   ],
   "source": [
    "x.shape"
   ]
  },
  {
   "cell_type": "code",
   "execution_count": 27,
   "metadata": {},
   "outputs": [],
   "source": [
    "y=y.reshape(-1,1)"
   ]
  },
  {
   "cell_type": "code",
   "execution_count": 28,
   "metadata": {},
   "outputs": [
    {
     "data": {
      "text/plain": [
       "(191, 1)"
      ]
     },
     "execution_count": 28,
     "metadata": {},
     "output_type": "execute_result"
    }
   ],
   "source": [
    "y.shape"
   ]
  },
  {
   "cell_type": "code",
   "execution_count": 29,
   "metadata": {},
   "outputs": [
    {
     "data": {
      "text/plain": [
       "<matplotlib.collections.PathCollection at 0x23bb1bb8400>"
      ]
     },
     "execution_count": 29,
     "metadata": {},
     "output_type": "execute_result"
    },
    {
     "data": {
      "image/png": "[encoded data removed]",
      "text/plain": [
       "<Figure size 432x288 with 1 Axes>"
      ]
     },
     "metadata": {
      "needs_background": "light"
     },
     "output_type": "display_data"
    }
   ],
   "source": [
    "plt.xlabel(\"temperature\")\n",
    "plt.ylabel(\"count\")\n",
    "plt.scatter(x,y)"
   ]
  },
  {
   "cell_type": "code",
   "execution_count": 30,
   "metadata": {},
   "outputs": [],
   "source": [
    "lm=LinearRegression()"
   ]
  },
  {
   "cell_type": "code",
   "execution_count": 31,
   "metadata": {},
   "outputs": [
    {
     "data": {
      "text/plain": [
       "LinearRegression(copy_X=True, fit_intercept=True, n_jobs=None, normalize=False)"
      ]
     },
     "execution_count": 31,
     "metadata": {},
     "output_type": "execute_result"
    }
   ],
   "source": [
    "lm.fit(x,y)"
   ]
  },
  {
   "cell_type": "code",
   "execution_count": 32,
   "metadata": {},
   "outputs": [
    {
     "data": {
      "text/plain": [
       "0.8050517679058149"
      ]
     },
     "execution_count": 32,
     "metadata": {},
     "output_type": "execute_result"
    }
   ],
   "source": [
    "lm.score(x,y)"
   ]
  },
  {
   "cell_type": "code",
   "execution_count": 33,
   "metadata": {},
   "outputs": [
    {
     "data": {
      "text/plain": [
       "array([[29.22197116]])"
      ]
     },
     "execution_count": 33,
     "metadata": {},
     "output_type": "execute_result"
    }
   ],
   "source": [
    "lm.coef_"
   ]
  },
  {
   "cell_type": "code",
   "execution_count": 34,
   "metadata": {},
   "outputs": [
    {
     "data": {
      "text/plain": [
       "array([14.32410196])"
      ]
     },
     "execution_count": 34,
     "metadata": {},
     "output_type": "execute_result"
    }
   ],
   "source": [
    "lm.intercept_"
   ]
  },
  {
   "cell_type": "raw",
   "metadata": {},
   "source": [
    "Temperature and Bike counts ounts shows linear characterstics so it gets 80% accuracy"
   ]
  },
  {
   "cell_type": "code",
   "execution_count": 37,
   "metadata": {},
   "outputs": [],
   "source": [
    "from sklearn.model_selection import train_test_split\n",
    "\n",
    "from sklearn import model_selection\n",
    "from sklearn.linear_model import Ridge\n",
    "from sklearn.linear_model import Lasso"
   ]
  },
  {
   "cell_type": "code",
   "execution_count": 39,
   "metadata": {},
   "outputs": [],
   "source": [
    "x_train,x_test,y_train,y_test=train_test_split(x,y,test_size=0.40,random_state=47)"
   ]
  },
  {
   "cell_type": "code",
   "execution_count": 40,
   "metadata": {},
   "outputs": [
    {
     "name": "stdout",
     "output_type": "stream",
     "text": [
      "[29.8768949]\n",
      "[1.9714679]\n",
      "0.778398038823165\n"
     ]
    }
   ],
   "source": [
    "#Lasso and Redge Model\n",
    "ls = Lasso()\n",
    "ls.fit(x_train,y_train)\n",
    "print(ls.coef_)\n",
    "print(ls.intercept_)\n",
    "print(ls.score(x_train,y_train))"
   ]
  },
  {
   "cell_type": "code",
   "execution_count": 41,
   "metadata": {},
   "outputs": [
    {
     "name": "stdout",
     "output_type": "stream",
     "text": [
      "[[29.88516417]]\n",
      "[1.84133763]\n",
      "0.778398140748748\n"
     ]
    }
   ],
   "source": [
    "rid=Ridge()\n",
    "rid.fit(x_train,y_train)\n",
    "print(rid.coef_)\n",
    "print(rid.intercept_)\n",
    "print(rid.score(x_train,y_train))"
   ]
  },
  {
   "cell_type": "code",
   "execution_count": 42,
   "metadata": {},
   "outputs": [
    {
     "data": {
      "text/plain": [
       "0.9913561298633439"
      ]
     },
     "execution_count": 42,
     "metadata": {},
     "output_type": "execute_result"
    }
   ],
   "source": [
    "from sklearn.tree import DecisionTreeRegressor\n",
    "dtr = DecisionTreeRegressor()\n",
    "dtr.fit(x_train,y_train)\n",
    "dtr.score(x_train,y_train)"
   ]
  },
  {
   "cell_type": "code",
   "execution_count": 43,
   "metadata": {},
   "outputs": [
    {
     "name": "stderr",
     "output_type": "stream",
     "text": [
      "C:\\ProgramData\\Anaconda3\\lib\\site-packages\\sklearn\\ensemble\\forest.py:245: FutureWarning: The default value of n_estimators will change from 10 in version 0.20 to 100 in 0.22.\n",
      "  \"10 in version 0.20 to 100 in 0.22.\", FutureWarning)\n",
      "C:\\ProgramData\\Anaconda3\\lib\\site-packages\\ipykernel_launcher.py:3: DataConversionWarning: A column-vector y was passed when a 1d array was expected. Please change the shape of y to (n_samples,), for example using ravel().\n",
      "  This is separate from the ipykernel package so we can avoid doing imports until\n"
     ]
    },
    {
     "data": {
      "text/plain": [
       "0.9913561298633439"
      ]
     },
     "execution_count": 43,
     "metadata": {},
     "output_type": "execute_result"
    }
   ],
   "source": [
    "from sklearn.ensemble import ExtraTreesRegressor\n",
    "etr = ExtraTreesRegressor()\n",
    "etr.fit(x_train,y_train)\n",
    "etr.score(x_train,y_train)"
   ]
  },
  {
   "cell_type": "code",
   "execution_count": 44,
   "metadata": {},
   "outputs": [
    {
     "data": {
      "text/plain": [
       "KNeighborsRegressor(algorithm='auto', leaf_size=30, metric='minkowski',\n",
       "                    metric_params=None, n_jobs=None, n_neighbors=5, p=2,\n",
       "                    weights='uniform')"
      ]
     },
     "execution_count": 44,
     "metadata": {},
     "output_type": "execute_result"
    }
   ],
   "source": [
    "# Using K Neighbors Regressor\n",
    "from sklearn.neighbors import KNeighborsRegressor\n",
    "knn = KNeighborsRegressor()\n",
    "knn.fit(x_train,y_train)"
   ]
  },
  {
   "cell_type": "code",
   "execution_count": 45,
   "metadata": {},
   "outputs": [
    {
     "data": {
      "text/plain": [
       "0.8865424158702636"
      ]
     },
     "execution_count": 45,
     "metadata": {},
     "output_type": "execute_result"
    }
   ],
   "source": [
    "knn.score(x_train,y_train)"
   ]
  },
  {
   "cell_type": "code",
   "execution_count": 46,
   "metadata": {},
   "outputs": [
    {
     "name": "stderr",
     "output_type": "stream",
     "text": [
      "C:\\ProgramData\\Anaconda3\\lib\\site-packages\\sklearn\\utils\\validation.py:724: DataConversionWarning: A column-vector y was passed when a 1d array was expected. Please change the shape of y to (n_samples, ), for example using ravel().\n",
      "  y = column_or_1d(y, warn=True)\n"
     ]
    },
    {
     "data": {
      "text/plain": [
       "0.9175559302940702"
      ]
     },
     "execution_count": 46,
     "metadata": {},
     "output_type": "execute_result"
    }
   ],
   "source": [
    "from sklearn.ensemble import AdaBoostRegressor\n",
    "adb = AdaBoostRegressor()\n",
    "adb.fit(x_train,y_train)\n",
    "adb.score(x_train,y_train)"
   ]
  },
  {
   "cell_type": "code",
   "execution_count": 47,
   "metadata": {},
   "outputs": [
    {
     "name": "stderr",
     "output_type": "stream",
     "text": [
      "C:\\ProgramData\\Anaconda3\\lib\\site-packages\\sklearn\\ensemble\\forest.py:245: FutureWarning: The default value of n_estimators will change from 10 in version 0.20 to 100 in 0.22.\n",
      "  \"10 in version 0.20 to 100 in 0.22.\", FutureWarning)\n",
      "C:\\ProgramData\\Anaconda3\\lib\\site-packages\\ipykernel_launcher.py:4: DataConversionWarning: A column-vector y was passed when a 1d array was expected. Please change the shape of y to (n_samples,), for example using ravel().\n",
      "  after removing the cwd from sys.path.\n"
     ]
    },
    {
     "data": {
      "text/plain": [
       "0.9576267966289639"
      ]
     },
     "execution_count": 47,
     "metadata": {},
     "output_type": "execute_result"
    }
   ],
   "source": [
    "#Using Random Forest Regressor\n",
    "from sklearn.ensemble import RandomForestRegressor\n",
    "rf = RandomForestRegressor()\n",
    "rf.fit(x_train,y_train)\n",
    "rf.score(x_train,y_train)"
   ]
  },
  {
   "cell_type": "code",
   "execution_count": 48,
   "metadata": {},
   "outputs": [
    {
     "name": "stderr",
     "output_type": "stream",
     "text": [
      "C:\\ProgramData\\Anaconda3\\lib\\site-packages\\sklearn\\ensemble\\gradient_boosting.py:1450: DataConversionWarning: A column-vector y was passed when a 1d array was expected. Please change the shape of y to (n_samples, ), for example using ravel().\n",
      "  y = column_or_1d(y, warn=True)\n"
     ]
    },
    {
     "data": {
      "text/plain": [
       "0.9729064824930787"
      ]
     },
     "execution_count": 48,
     "metadata": {},
     "output_type": "execute_result"
    }
   ],
   "source": [
    "from sklearn.ensemble import GradientBoostingRegressor\n",
    "gbr = GradientBoostingRegressor()\n",
    "gbr.fit(x_train,y_train)\n",
    "gbr.score(x_train,y_train)"
   ]
  },
  {
   "cell_type": "markdown",
   "metadata": {},
   "source": [
    "Conclusion-After applying all the algorithm we can conclude that DecisionTree Regressor is best algorithm for that problem\n",
    "we get 99% Accuracy."
   ]
  }
 ],
 "metadata": {
  "kernelspec": {
   "display_name": "Python 3",
   "language": "python",
   "name": "python3"
  },
  "language_info": {
   "codemirror_mode": {
    "name": "ipython",
    "version": 3
   },
   "file_extension": ".py",
   "mimetype": "text/x-python",
   "name": "python",
   "nbconvert_exporter": "python",
   "pygments_lexer": "ipython3",
   "version": "3.7.3"
  }
 },
 "nbformat": 4,
 "nbformat_minor": 2
}
